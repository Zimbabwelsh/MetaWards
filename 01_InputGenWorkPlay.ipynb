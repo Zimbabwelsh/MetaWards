{
 "cells": [
  {
   "cell_type": "code",
   "execution_count": 1,
   "metadata": {},
   "outputs": [],
   "source": [
    "import pandas as pd\n",
    "import numpy as np\n",
    "import geopandas as gpd\n",
    "\n",
    "%matplotlib inline"
   ]
  },
  {
   "cell_type": "code",
   "execution_count": 2,
   "metadata": {
    "scrolled": true
   },
   "outputs": [
    {
     "data": {
      "text/html": [
       "<div>\n",
       "<style scoped>\n",
       "    .dataframe tbody tr th:only-of-type {\n",
       "        vertical-align: middle;\n",
       "    }\n",
       "\n",
       "    .dataframe tbody tr th {\n",
       "        vertical-align: top;\n",
       "    }\n",
       "\n",
       "    .dataframe thead th {\n",
       "        text-align: right;\n",
       "    }\n",
       "</style>\n",
       "<table border=\"1\" class=\"dataframe\">\n",
       "  <thead>\n",
       "    <tr style=\"text-align: right;\">\n",
       "      <th></th>\n",
       "      <th>From</th>\n",
       "      <th>To</th>\n",
       "      <th>Age1</th>\n",
       "      <th>Age2</th>\n",
       "      <th>Age3</th>\n",
       "      <th>Age4</th>\n",
       "      <th>Age5</th>\n",
       "      <th>Age6</th>\n",
       "      <th>Age7</th>\n",
       "    </tr>\n",
       "  </thead>\n",
       "  <tbody>\n",
       "    <tr>\n",
       "      <td>0</td>\n",
       "      <td>95AA01S1</td>\n",
       "      <td>95AA01S1</td>\n",
       "      <td>15</td>\n",
       "      <td>1</td>\n",
       "      <td>6</td>\n",
       "      <td>7</td>\n",
       "      <td>1</td>\n",
       "      <td>0</td>\n",
       "      <td>0</td>\n",
       "    </tr>\n",
       "    <tr>\n",
       "      <td>1</td>\n",
       "      <td>95AA01S1</td>\n",
       "      <td>95AA01S2</td>\n",
       "      <td>207</td>\n",
       "      <td>42</td>\n",
       "      <td>105</td>\n",
       "      <td>60</td>\n",
       "      <td>0</td>\n",
       "      <td>0</td>\n",
       "      <td>0</td>\n",
       "    </tr>\n",
       "    <tr>\n",
       "      <td>2</td>\n",
       "      <td>95AA01S1</td>\n",
       "      <td>95AA01S3</td>\n",
       "      <td>3</td>\n",
       "      <td>0</td>\n",
       "      <td>2</td>\n",
       "      <td>1</td>\n",
       "      <td>0</td>\n",
       "      <td>0</td>\n",
       "      <td>0</td>\n",
       "    </tr>\n",
       "    <tr>\n",
       "      <td>3</td>\n",
       "      <td>95AA01S1</td>\n",
       "      <td>95AA02W1</td>\n",
       "      <td>1</td>\n",
       "      <td>0</td>\n",
       "      <td>0</td>\n",
       "      <td>1</td>\n",
       "      <td>0</td>\n",
       "      <td>0</td>\n",
       "      <td>0</td>\n",
       "    </tr>\n",
       "    <tr>\n",
       "      <td>4</td>\n",
       "      <td>95AA01S1</td>\n",
       "      <td>95AA04W1</td>\n",
       "      <td>5</td>\n",
       "      <td>1</td>\n",
       "      <td>2</td>\n",
       "      <td>2</td>\n",
       "      <td>0</td>\n",
       "      <td>0</td>\n",
       "      <td>0</td>\n",
       "    </tr>\n",
       "  </tbody>\n",
       "</table>\n",
       "</div>"
      ],
      "text/plain": [
       "       From        To  Age1  Age2  Age3  Age4  Age5  Age6  Age7\n",
       "0  95AA01S1  95AA01S1    15     1     6     7     1     0     0\n",
       "1  95AA01S1  95AA01S2   207    42   105    60     0     0     0\n",
       "2  95AA01S1  95AA01S3     3     0     2     1     0     0     0\n",
       "3  95AA01S1  95AA02W1     1     0     0     1     0     0     0\n",
       "4  95AA01S1  95AA04W1     5     1     2     2     0     0     0"
      ]
     },
     "execution_count": 2,
     "metadata": {},
     "output_type": "execute_result"
    }
   ],
   "source": [
    "#Read in data - Unsure on age categories - so have just named them Age1 through Age7\n",
    "df=pd.read_csv(\"wu02uk_msoa_v2.csv\", header=None)\n",
    "df=df.rename(columns={0:\"From\", 1:\"To\", 2:\"Age1\", 3:\"Age2\",\n",
    "                  4:\"Age3\", 5:\"Age4\", 6:\"Age5\", 7:\"Age6\", 8:\"Age7\"})\n",
    "df.head()"
   ]
  },
  {
   "cell_type": "markdown",
   "metadata": {},
   "source": [
    "## Shapefile merging, read from internet sources. Areas not included in flow data\n",
    "\n",
    "Outputs geom - full geometry shapefile for total UK countries. Length > dataset - unsure how you want shapefiles coded that aren't in the flow dataset - so have left them enumerated at the bottom, but they just don't have a mapping in the flows data."
   ]
  },
  {
   "cell_type": "code",
   "execution_count": 3,
   "metadata": {},
   "outputs": [],
   "source": [
    "EWMSOA=gpd.read_file('Middle_Layer_Super_Output_Areas_December_2011_Boundaries_EW_BFC')"
   ]
  },
  {
   "cell_type": "code",
   "execution_count": 5,
   "metadata": {},
   "outputs": [],
   "source": [
    "SIZ=gpd.read_file('http://sedsh127.sedsh.gov.uk/Atom_data/ScotGov/ZippedShapefiles/SG_IntermediateZoneBdry_2011.zip')"
   ]
  },
  {
   "cell_type": "code",
   "execution_count": 6,
   "metadata": {},
   "outputs": [],
   "source": [
    "#NISOA=gpd.read_file('https://www.nisra.gov.uk/sites/nisra.gov.uk/files/publications/SOA2011_Esri_Shapefile_0.zip')\n",
    "NISOA=gpd.read_file('SOA2011_Esri_Shapefile_0')"
   ]
  },
  {
   "cell_type": "code",
   "execution_count": 7,
   "metadata": {},
   "outputs": [],
   "source": [
    "EWMSOA=EWMSOA.to_crs(\"EPSG:4326\") # to make shapefiles consistent and in lat long\n",
    "NISOA=NISOA.to_crs(\"EPSG:4326\") # google earth stuff.\n",
    "SIZ=SIZ.to_crs(\"EPSG:4326\")"
   ]
  },
  {
   "cell_type": "code",
   "execution_count": 8,
   "metadata": {},
   "outputs": [],
   "source": [
    "EWMSOA.rename(columns={\"msoa11cd\":\"cd\"}, inplace=True)\n",
    "NISOA.rename(columns={\"SOA_CODE\":\"cd\"}, inplace=True)\n",
    "SIZ.rename(columns={\"InterZone\":\"cd\"}, inplace=True)"
   ]
  },
  {
   "cell_type": "code",
   "execution_count": 9,
   "metadata": {},
   "outputs": [
    {
     "data": {
      "text/plain": [
       "(9370, 2)"
      ]
     },
     "execution_count": 9,
     "metadata": {},
     "output_type": "execute_result"
    }
   ],
   "source": [
    "geom=gpd.GeoDataFrame(EWMSOA[{\"cd\",\"geometry\"}])\n",
    "geom=geom.append(NISOA[{\"cd\",\"geometry\"}], ignore_index=True)\n",
    "geom=geom.append(SIZ[{\"cd\",\"geometry\"}], ignore_index=True)\n",
    "geom.shape"
   ]
  },
  {
   "cell_type": "markdown",
   "metadata": {},
   "source": [
    "## Create Master lookup for True IDs (TID) including empty-cells and non UK destinations"
   ]
  },
  {
   "cell_type": "code",
   "execution_count": 26,
   "metadata": {},
   "outputs": [],
   "source": [
    "df9=df[['From','To']]\n",
    "df9.head()\n",
    "column_values = df9[[\"From\", \"To\"]].values.ravel() # turns them into an array from a series\n",
    "unique_values =  pd.unique(column_values)\n",
    "\n",
    "\n",
    "\n",
    "lookup=pd.DataFrame({\"CD\":list(df.To.unique())}) # make lookup data frame with CD column as unique indicator\n",
    "lookup=lookup.merge(geom, left_on=\"CD\", right_on=\"cd\", how=\"outer\") # add ont he geoms from the shapefiles\n",
    "lookup.cd.fillna(lookup.CD, inplace=True) # fill in NA where you don't have geoms\n"
   ]
  },
  {
   "cell_type": "code",
   "execution_count": 30,
   "metadata": {},
   "outputs": [
    {
     "data": {
      "text/plain": [
       "9330"
      ]
     },
     "execution_count": 30,
     "metadata": {},
     "output_type": "execute_result"
    }
   ],
   "source": [
    "len(unique_values)"
   ]
  },
  {
   "cell_type": "code",
   "execution_count": 28,
   "metadata": {},
   "outputs": [
    {
     "data": {
      "text/plain": [
       "(10609, 4)"
      ]
     },
     "execution_count": 28,
     "metadata": {},
     "output_type": "execute_result"
    }
   ],
   "source": [
    "lookup.shape\n",
    "\n",
    "lookup['TID']=np.arange(len(lookup))+1\n",
    "\n"
   ]
  },
  {
   "cell_type": "code",
   "execution_count": 29,
   "metadata": {},
   "outputs": [],
   "source": [
    "lookupdict=dict(zip(lookup.cd, lookup.TID))\n",
    "df.From=df.From.map(lookupdict)\n",
    "df.To=df.To.map(lookupdict)"
   ]
  },
  {
   "cell_type": "code",
   "execution_count": 31,
   "metadata": {},
   "outputs": [],
   "source": [
    "df.to_csv('ageflows.csv',index=False)"
   ]
  },
  {
   "cell_type": "code",
   "execution_count": 32,
   "metadata": {},
   "outputs": [],
   "source": [
    "df.head()\n",
    "\n",
    "header = [\"From\",\"To\",\"Age1\"]\n",
    "df.to_csv('output.csv', columns = header,index=False)"
   ]
  },
  {
   "cell_type": "code",
   "execution_count": 27,
   "metadata": {},
   "outputs": [
    {
     "data": {
      "text/html": [
       "<div>\n",
       "<style scoped>\n",
       "    .dataframe tbody tr th:only-of-type {\n",
       "        vertical-align: middle;\n",
       "    }\n",
       "\n",
       "    .dataframe tbody tr th {\n",
       "        vertical-align: top;\n",
       "    }\n",
       "\n",
       "    .dataframe thead th {\n",
       "        text-align: right;\n",
       "    }\n",
       "</style>\n",
       "<table border=\"1\" class=\"dataframe\">\n",
       "  <thead>\n",
       "    <tr style=\"text-align: right;\">\n",
       "      <th></th>\n",
       "      <th>From</th>\n",
       "      <th>To</th>\n",
       "      <th>Age1</th>\n",
       "      <th>Age2</th>\n",
       "      <th>Age3</th>\n",
       "      <th>Age4</th>\n",
       "      <th>Age5</th>\n",
       "      <th>Age6</th>\n",
       "      <th>Age7</th>\n",
       "      <th>Total</th>\n",
       "    </tr>\n",
       "  </thead>\n",
       "  <tbody>\n",
       "    <tr>\n",
       "      <td>0</td>\n",
       "      <td>1</td>\n",
       "      <td>1</td>\n",
       "      <td>15</td>\n",
       "      <td>1</td>\n",
       "      <td>6</td>\n",
       "      <td>7</td>\n",
       "      <td>1</td>\n",
       "      <td>0</td>\n",
       "      <td>0</td>\n",
       "      <td>30</td>\n",
       "    </tr>\n",
       "    <tr>\n",
       "      <td>1</td>\n",
       "      <td>1</td>\n",
       "      <td>2</td>\n",
       "      <td>207</td>\n",
       "      <td>42</td>\n",
       "      <td>105</td>\n",
       "      <td>60</td>\n",
       "      <td>0</td>\n",
       "      <td>0</td>\n",
       "      <td>0</td>\n",
       "      <td>414</td>\n",
       "    </tr>\n",
       "    <tr>\n",
       "      <td>2</td>\n",
       "      <td>1</td>\n",
       "      <td>3</td>\n",
       "      <td>3</td>\n",
       "      <td>0</td>\n",
       "      <td>2</td>\n",
       "      <td>1</td>\n",
       "      <td>0</td>\n",
       "      <td>0</td>\n",
       "      <td>0</td>\n",
       "      <td>6</td>\n",
       "    </tr>\n",
       "    <tr>\n",
       "      <td>3</td>\n",
       "      <td>1</td>\n",
       "      <td>4</td>\n",
       "      <td>1</td>\n",
       "      <td>0</td>\n",
       "      <td>0</td>\n",
       "      <td>1</td>\n",
       "      <td>0</td>\n",
       "      <td>0</td>\n",
       "      <td>0</td>\n",
       "      <td>2</td>\n",
       "    </tr>\n",
       "    <tr>\n",
       "      <td>4</td>\n",
       "      <td>1</td>\n",
       "      <td>5</td>\n",
       "      <td>5</td>\n",
       "      <td>1</td>\n",
       "      <td>2</td>\n",
       "      <td>2</td>\n",
       "      <td>0</td>\n",
       "      <td>0</td>\n",
       "      <td>0</td>\n",
       "      <td>10</td>\n",
       "    </tr>\n",
       "  </tbody>\n",
       "</table>\n",
       "</div>"
      ],
      "text/plain": [
       "   From  To  Age1  Age2  Age3  Age4  Age5  Age6  Age7  Total\n",
       "0     1   1    15     1     6     7     1     0     0     30\n",
       "1     1   2   207    42   105    60     0     0     0    414\n",
       "2     1   3     3     0     2     1     0     0     0      6\n",
       "3     1   4     1     0     0     1     0     0     0      2\n",
       "4     1   5     5     1     2     2     0     0     0     10"
      ]
     },
     "execution_count": 27,
     "metadata": {},
     "output_type": "execute_result"
    }
   ],
   "source": [
    "df.head()"
   ]
  },
  {
   "cell_type": "code",
   "execution_count": 33,
   "metadata": {},
   "outputs": [],
   "source": [
    "geom['ID']=geom.cd.map(lookupdict)\n",
    "geom=geom.sort_values(by=['ID'])\n",
    "geom.to_file(\"fullgeom.shp\")"
   ]
  },
  {
   "cell_type": "markdown",
   "metadata": {},
   "source": [
    "## Generating Work and Play Files"
   ]
  },
  {
   "cell_type": "code",
   "execution_count": 35,
   "metadata": {},
   "outputs": [],
   "source": [
    "#work=pd.DataFrame(df[{\"From\", \"Age1\", \"Age2\", \"Age3\", \"Age4\", \n",
    "#                      \"Age5\", \"Age6\", \"Age7\"}].groupby('From').sum())\n",
    "\n",
    "work=pd.DataFrame(df[{\"From\", \"Age1\"}].groupby('From').sum())\n",
    "\n",
    "#work['sum']=work.loc[:,work.columns != \"From\"].sum(axis=1) # calculating the sum over columns Age 2 onwards\n",
    "work.reset_index(inplace=True)\n",
    "work=work[['From', 'Age1']]\n",
    "work.to_csv('worksize.csv',index=False)"
   ]
  },
  {
   "cell_type": "markdown",
   "metadata": {},
   "source": [
    "## Generating Play file - take MSOA, IZ, SOA population estimates from gov sources and compile into master list.\n",
    " Merge with work file and subtract work population flow from the total population to get estimate of \"play\". \n",
    " \n",
    " Note 571 areas have \"from\" flows recorded which are higher than the estimated population - meaning negative estimates\n",
    " for play population."
   ]
  },
  {
   "cell_type": "code",
   "execution_count": 36,
   "metadata": {},
   "outputs": [],
   "source": [
    "#Taking Scottish Data and converting to Two Column DataFrame with Code (cd) and Total Population (tot)\n",
    "scotpop=pd.read_csv(\"iz2011-pop-est_02042020.csv\", skiprows=3, header=None)\n",
    "\n",
    "\n",
    "\n",
    "scotpop1=scotpop[scotpop[0]==2018]\n",
    "scotpop1=scotpop1[{1,3,4}]\n",
    "scotpop1=scotpop1.iloc[2:,]\n",
    "scotpop1=scotpop1.groupby(1).sum()\n",
    "scotpop1=scotpop1.reset_index()\n",
    "scotpop1=scotpop1.rename(columns={1:\"cd\", 4:\"tot\"})"
   ]
  },
  {
   "cell_type": "code",
   "execution_count": 37,
   "metadata": {},
   "outputs": [],
   "source": [
    "#Taking Northern Irish Data and converting to Two Column DataFrame with Code (cd) and Total Population (tot)\n",
    "nipop=pd.read_csv(\"super-output-areas-soas-by-gender-and-broad-age-bands-mid-2001-to-mid-2018.csv\")\n",
    "nipop1=nipop[nipop['Age_Group']==\"All ages\"]\n",
    "nipop1=nipop1[nipop1['Mid_Year_Ending']==2018]\n",
    "nipop1=nipop1[nipop1['Gender']==\"All persons\"]\n",
    "nipop1=nipop1[{\"Geo_Code\", \"Population_Estimate\"}]\n",
    "nipop1=nipop1.rename(columns={\"Geo_Code\":\"cd\", \"Population_Estimate\":\"tot\"})"
   ]
  },
  {
   "cell_type": "code",
   "execution_count": 38,
   "metadata": {},
   "outputs": [],
   "source": [
    "## File from https://www.ons.gov.uk/file?uri=%2fpeoplepopulationandcommunity%2fpopulationandmigration%2fpopulationestimates%2fdatasets%2fmiddlesuperoutputareamidyearpopulationestimatesnationalstatistics%2fmid2018sape21dt14a/sape21dt15mid2018msoaquinaryestimatesunformatted.zip\n",
    "#Taking England and Wales Data and converting to Two Column DataFrame with Code (cd) and Total Population (tot)\n",
    "# Not read directly from link as indexing subsheets in zipped xlsx format is lengthy. Can be updated\n",
    "ewpop=pd.read_excel(\"SAPE21DT15-mid-2018-msoa-quinary-estimates-unformatted.xlsx\",\n",
    "                    sheet_name=\"Mid-2018 Persons\", \n",
    "                    skiprows=4)\n",
    "ewpop=ewpop[{\"Area Codes\", \"All Ages\"}]\n",
    "ewpop=ewpop.rename(columns={\"Area Codes\":\"cd\", \"All Ages\":\"tot\"})"
   ]
  },
  {
   "cell_type": "code",
   "execution_count": 39,
   "metadata": {
    "scrolled": true
   },
   "outputs": [
    {
     "name": "stderr",
     "output_type": "stream",
     "text": [
      "/Library/Frameworks/Python.framework/Versions/3.7/lib/python3.7/site-packages/pandas/core/frame.py:7123: FutureWarning: Sorting because non-concatenation axis is not aligned. A future version\n",
      "of pandas will change to not sort by default.\n",
      "\n",
      "To accept the future behavior, pass 'sort=False'.\n",
      "\n",
      "To retain the current behavior and silence the warning, pass 'sort=True'.\n",
      "\n",
      "  sort=sort,\n"
     ]
    },
    {
     "data": {
      "text/html": [
       "<div>\n",
       "<style scoped>\n",
       "    .dataframe tbody tr th:only-of-type {\n",
       "        vertical-align: middle;\n",
       "    }\n",
       "\n",
       "    .dataframe tbody tr th {\n",
       "        vertical-align: top;\n",
       "    }\n",
       "\n",
       "    .dataframe thead th {\n",
       "        text-align: right;\n",
       "    }\n",
       "</style>\n",
       "<table border=\"1\" class=\"dataframe\">\n",
       "  <thead>\n",
       "    <tr style=\"text-align: right;\">\n",
       "      <th></th>\n",
       "      <th>cd</th>\n",
       "      <th>tot</th>\n",
       "      <th>ID</th>\n",
       "    </tr>\n",
       "  </thead>\n",
       "  <tbody>\n",
       "    <tr>\n",
       "      <td>8065</td>\n",
       "      <td>95YY15S1</td>\n",
       "      <td>382</td>\n",
       "      <td>673</td>\n",
       "    </tr>\n",
       "    <tr>\n",
       "      <td>7679</td>\n",
       "      <td>95MM14S1</td>\n",
       "      <td>881</td>\n",
       "      <td>1889</td>\n",
       "    </tr>\n",
       "    <tr>\n",
       "      <td>8780</td>\n",
       "      <td>S02001925</td>\n",
       "      <td>885</td>\n",
       "      <td>10020</td>\n",
       "    </tr>\n",
       "    <tr>\n",
       "      <td>7201</td>\n",
       "      <td>95AA01S1</td>\n",
       "      <td>1026</td>\n",
       "      <td>1</td>\n",
       "    </tr>\n",
       "    <tr>\n",
       "      <td>7795</td>\n",
       "      <td>95QQ03W1</td>\n",
       "      <td>1038</td>\n",
       "      <td>1744</td>\n",
       "    </tr>\n",
       "    <tr>\n",
       "      <td>...</td>\n",
       "      <td>...</td>\n",
       "      <td>...</td>\n",
       "      <td>...</td>\n",
       "    </tr>\n",
       "    <tr>\n",
       "      <td>4330</td>\n",
       "      <td>E02000891</td>\n",
       "      <td>19374</td>\n",
       "      <td>331</td>\n",
       "    </tr>\n",
       "    <tr>\n",
       "      <td>243</td>\n",
       "      <td>E02001731</td>\n",
       "      <td>19855</td>\n",
       "      <td>929</td>\n",
       "    </tr>\n",
       "    <tr>\n",
       "      <td>242</td>\n",
       "      <td>E02001730</td>\n",
       "      <td>19868</td>\n",
       "      <td>1758</td>\n",
       "    </tr>\n",
       "    <tr>\n",
       "      <td>5103</td>\n",
       "      <td>E02003475</td>\n",
       "      <td>21716</td>\n",
       "      <td>2759</td>\n",
       "    </tr>\n",
       "    <tr>\n",
       "      <td>4245</td>\n",
       "      <td>E02000726</td>\n",
       "      <td>24969</td>\n",
       "      <td>1494</td>\n",
       "    </tr>\n",
       "  </tbody>\n",
       "</table>\n",
       "<p>9370 rows × 3 columns</p>\n",
       "</div>"
      ],
      "text/plain": [
       "             cd    tot     ID\n",
       "8065   95YY15S1    382    673\n",
       "7679   95MM14S1    881   1889\n",
       "8780  S02001925    885  10020\n",
       "7201   95AA01S1   1026      1\n",
       "7795   95QQ03W1   1038   1744\n",
       "...         ...    ...    ...\n",
       "4330  E02000891  19374    331\n",
       "243   E02001731  19855    929\n",
       "242   E02001730  19868   1758\n",
       "5103  E02003475  21716   2759\n",
       "4245  E02000726  24969   1494\n",
       "\n",
       "[9370 rows x 3 columns]"
      ]
     },
     "execution_count": 39,
     "metadata": {},
     "output_type": "execute_result"
    }
   ],
   "source": [
    "# Generate master population estimate DataFrame (cd, tot)\n",
    "totpop=ewpop.append(nipop1, ignore_index=True).append(scotpop1, ignore_index=True)\n",
    "totpop['ID']=totpop.cd.map(lookupdict)\n",
    "totpop.sort_values(by=['tot'])"
   ]
  },
  {
   "cell_type": "markdown",
   "metadata": {},
   "source": [
    "#### Finally generate playsize.csv by merging total population file with work file and generating \"play\" column"
   ]
  },
  {
   "cell_type": "code",
   "execution_count": 41,
   "metadata": {},
   "outputs": [],
   "source": [
    "#Merge totpop with work file and use lookupdict to convert cd into master list of areas.  \n",
    "#newpop=totpop.merge(lookup[{\"CD\", \"TID\"}], left_on=\"cd\", right_on=\"CD\", how=\"left\")\n",
    "\n",
    "newpop=totpop.merge(work, left_on=\"ID\", right_on=\"From\", how=\"left\")\n"
   ]
  },
  {
   "cell_type": "code",
   "execution_count": 46,
   "metadata": {},
   "outputs": [
    {
     "data": {
      "text/plain": [
       "cd       object\n",
       "tot       int64\n",
       "ID        int64\n",
       "From    float64\n",
       "Age1    float64\n",
       "play    float64\n",
       "dtype: object"
      ]
     },
     "execution_count": 46,
     "metadata": {},
     "output_type": "execute_result"
    }
   ],
   "source": [
    "newpop['Age1'].replace(np.nan, 0, inplace=True)\n",
    "newpop['play']=newpop['tot'] - newpop['Age1']\n",
    "\n",
    "newpop.dtypes"
   ]
  },
  {
   "cell_type": "code",
   "execution_count": 50,
   "metadata": {},
   "outputs": [
    {
     "data": {
      "text/plain": [
       "ID        int64\n",
       "play    float64\n",
       "dtype: object"
      ]
     },
     "execution_count": 50,
     "metadata": {},
     "output_type": "execute_result"
    }
   ],
   "source": [
    "\n",
    "\n",
    "playpop=newpop[['ID', 'play']]\n",
    "playpop=playpop.sort_values(by=['ID'])\n",
    "\n",
    "playpop.astype('int64')\n",
    "\n",
    "playpop.dtypes\n",
    "#playpop.to_csv('playsize.csv',index=False)"
   ]
  },
  {
   "cell_type": "code",
   "execution_count": 22,
   "metadata": {},
   "outputs": [
    {
     "data": {
      "text/plain": [
       "(1718, 2)"
      ]
     },
     "execution_count": 22,
     "metadata": {},
     "output_type": "execute_result"
    }
   ],
   "source": [
    "playpop[playpop['play']<=0].shape"
   ]
  },
  {
   "cell_type": "code",
   "execution_count": 23,
   "metadata": {},
   "outputs": [
    {
     "data": {
      "text/plain": [
       "<bound method NDFrame.head of          ID    play\n",
       "7201      1  -156.0\n",
       "7202      2   232.0\n",
       "7203      3   -27.0\n",
       "7204      4   106.0\n",
       "7206      5   155.0\n",
       "...     ...     ...\n",
       "9365  10605  5489.0\n",
       "9366  10606  4363.0\n",
       "9367  10607  5631.0\n",
       "9368  10608  3866.0\n",
       "9369  10609  2889.0\n",
       "\n",
       "[9370 rows x 2 columns]>"
      ]
     },
     "execution_count": 23,
     "metadata": {},
     "output_type": "execute_result"
    }
   ],
   "source": [
    "playpop.head"
   ]
  },
  {
   "cell_type": "code",
   "execution_count": null,
   "metadata": {},
   "outputs": [],
   "source": []
  }
 ],
 "metadata": {
  "kernelspec": {
   "display_name": "Python 3",
   "language": "python",
   "name": "python3"
  },
  "language_info": {
   "codemirror_mode": {
    "name": "ipython",
    "version": 3
   },
   "file_extension": ".py",
   "mimetype": "text/x-python",
   "name": "python",
   "nbconvert_exporter": "python",
   "pygments_lexer": "ipython3",
   "version": "3.7.2"
  }
 },
 "nbformat": 4,
 "nbformat_minor": 4
}
